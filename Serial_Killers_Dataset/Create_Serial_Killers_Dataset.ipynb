{
  "nbformat": 4,
  "nbformat_minor": 0,
  "metadata": {
    "colab": {
      "provenance": []
    },
    "kernelspec": {
      "name": "python3",
      "display_name": "Python 3"
    },
    "language_info": {
      "name": "python"
    }
  },
  "cells": [
    {
      "cell_type": "code",
      "execution_count": null,
      "metadata": {
        "id": "8rbNLGDr4ukN"
      },
      "outputs": [],
      "source": [
        "import pandas as pd"
      ]
    },
    {
      "cell_type": "code",
      "source": [
        "def get_data(url):\n",
        "  tables = pd.read_html(url)\n",
        "  merged_df = pd.DataFrame()\n",
        "\n",
        "  for df in tables:\n",
        "      merged_df = pd.concat([merged_df, df], axis=0)\n",
        "      merged_df = merged_df.reset_index(drop=True)\n",
        "\n",
        "  return merged_df"
      ],
      "metadata": {
        "id": "CqfXXaK-448I"
      },
      "execution_count": null,
      "outputs": []
    },
    {
      "cell_type": "code",
      "source": [
        "url = \"https://en.wikipedia.org/wiki/List_of_serial_killers_by_number_of_victims#\"\n",
        "#List_of_serial_killers_before_1900 List_of_serial_killers_by_number_of_victims #List_of_rampage_killers_in_the_United_States List_of_Unsolved_serial_killings\n",
        "\n",
        "df = get_data(url)"
      ],
      "metadata": {
        "id": "GMMklACvB_ai"
      },
      "execution_count": null,
      "outputs": []
    },
    {
      "cell_type": "code",
      "source": [
        "url = \"https://en.wikipedia.org/wiki/List_of_serial_killers_before_1900\"\n",
        "\n",
        "df2 = get_data(url)\n",
        "df2['Years active'] = df2['Years active'].fillna(df2['Time Period'])\n",
        "\n",
        "df2 = df2.drop(\"Time Period\", axis = 1 )\n",
        "\n",
        "df2 = df2.rename(columns={'Claimed victims': 'Possible victims'})"
      ],
      "metadata": {
        "id": "q4GQlQzxCG0N"
      },
      "execution_count": null,
      "outputs": []
    },
    {
      "cell_type": "code",
      "source": [
        "df3 = pd.concat([df,df2], axis = 0).reset_index(drop=True).fillna(\"Unconfirmed\")"
      ],
      "metadata": {
        "id": "oKczcusQCNGD"
      },
      "execution_count": null,
      "outputs": []
    },
    {
      "cell_type": "code",
      "source": [
        "url = \"https://en.wikipedia.org/wiki/List_of_serial_killers_in_the_United_States\"\n",
        "\n",
        "df4 = get_data(url)\n",
        "df4['Country'] = 'United States'"
      ],
      "metadata": {
        "id": "knG5oALcBNqW"
      },
      "execution_count": null,
      "outputs": []
    },
    {
      "cell_type": "code",
      "source": [
        "df4 = df4[df3.columns]\n",
        "\n",
        "df5 = pd.concat([df3,df4], axis = 0).reset_index(drop=True)"
      ],
      "metadata": {
        "id": "5T4BK5BWBptB"
      },
      "execution_count": null,
      "outputs": []
    },
    {
      "cell_type": "code",
      "source": [
        "# https://en.wikipedia.org/wiki/List_of_rampage_killers_in_the_United_States\n",
        "\n",
        "url = \"https://en.wikipedia.org/wiki/List_of_rampage_killers_in_the_United_States\"\n",
        "\n",
        "tables= pd.read_html(url)\n",
        "\n",
        "tables[3] = tables[3].drop([\"#\", 'Location', 'State', 'W', 'Ref.', 'Date'], axis = 1)\n",
        "tables[3]['Country'] = \"United States\"\n",
        "tables[3] = tables[3].rename(columns = {\n",
        "    'Perpetrator':'Name',\n",
        "    'Year': 'Years active',\n",
        "    'Killed': 'Proven victims',\n",
        "    'Additional Notes':'Notes'\n",
        "})\n",
        "\n",
        "df6 = pd.concat([df5, tables[3]], axis = 0).drop('Injured', axis = 1).fillna('Unconfirmed').reset_index(drop=True)"
      ],
      "metadata": {
        "id": "fEdYugWdGvcR"
      },
      "execution_count": null,
      "outputs": []
    },
    {
      "cell_type": "code",
      "source": [
        "df7 = get_data(\"https://en.wikipedia.org/wiki/List_of_serial_killers_active_in_the_2020s#Unsolved_serial_killings\")\n",
        "\n",
        "df8 = pd.concat( [df6 , df7[df6.columns] ], axis = 0).reset_index(drop = True).fillna('Unknown')"
      ],
      "metadata": {
        "id": "MWG19Zwt9yJY"
      },
      "execution_count": null,
      "outputs": []
    },
    {
      "cell_type": "code",
      "source": [
        "df8"
      ],
      "metadata": {
        "colab": {
          "base_uri": "https://localhost:8080/",
          "height": 589
        },
        "id": "_g-Pr_BHeIlI",
        "outputId": "02f6b48e-f3c8-4738-be93-305cfb9fa1ee"
      },
      "execution_count": null,
      "outputs": [
        {
          "output_type": "execute_result",
          "data": {
            "text/plain": [
              "                        Name                                  Country  \\\n",
              "0              Luis Garavito       Colombia  Ecuador[3]  Venezuela[3]   \n",
              "1                Pedro López                  Colombia  Peru  Ecuador   \n",
              "2                Javed Iqbal                                 Pakistan   \n",
              "3             Mikhail Popkov                                   Russia   \n",
              "4     Daniel Camargo Barbosa  Colombia  Ecuador  Brazil (alleged)[13]   \n",
              "...                      ...                                      ...   \n",
              "1526                 Unknown                            United States   \n",
              "1527                 Unknown                                   Canada   \n",
              "1528                 Unknown                                   Mexico   \n",
              "1529                 Unknown                                   Canada   \n",
              "1530                 Unknown                                    Italy   \n",
              "\n",
              "      Years active Proven victims Possible victims  \\\n",
              "0     1992–1999[3]            193         193–300+   \n",
              "1        1969–1980            110             300+   \n",
              "2        1998–1999            100              100   \n",
              "3        1992–2010             78              83+   \n",
              "4        1974–1986             72          180[13]   \n",
              "...            ...            ...              ...   \n",
              "1526     2021–2022              2                4   \n",
              "1527  1970–present             80              80+   \n",
              "1528  2020–present             71          86–200+   \n",
              "1529          2022              4                4   \n",
              "1530          2022              0                3   \n",
              "\n",
              "                                                  Notes  \n",
              "0     Child-murderer, torture-killer, and rapist kno...  \n",
              "1     Child-murderer and rapist, known as \"The Monst...  \n",
              "2     Child-murderer and rapist, known as \"Kukri\", I...  \n",
              "3     Serial rapist-killer nicknamed \"The Werewolf\",...  \n",
              "4     Child and woman murderer, believed to have pos...  \n",
              "...                                                 ...  \n",
              "1526  Shootings of four Muslim men in Albuquerque, N...  \n",
              "1527  A corridor of Highway 16 where, since 1970, at...  \n",
              "1528  A 13-mile stretch of Federal Highway 86 where,...  \n",
              "1529  Four indigenous women were murdered in Winnipe...  \n",
              "1530  Three women were murdered at two different loc...  \n",
              "\n",
              "[1531 rows x 6 columns]"
            ],
            "text/html": [
              "\n",
              "  <div id=\"df-8e4d4579-01e2-424f-97cc-a20f813a35dd\">\n",
              "    <div class=\"colab-df-container\">\n",
              "      <div>\n",
              "<style scoped>\n",
              "    .dataframe tbody tr th:only-of-type {\n",
              "        vertical-align: middle;\n",
              "    }\n",
              "\n",
              "    .dataframe tbody tr th {\n",
              "        vertical-align: top;\n",
              "    }\n",
              "\n",
              "    .dataframe thead th {\n",
              "        text-align: right;\n",
              "    }\n",
              "</style>\n",
              "<table border=\"1\" class=\"dataframe\">\n",
              "  <thead>\n",
              "    <tr style=\"text-align: right;\">\n",
              "      <th></th>\n",
              "      <th>Name</th>\n",
              "      <th>Country</th>\n",
              "      <th>Years active</th>\n",
              "      <th>Proven victims</th>\n",
              "      <th>Possible victims</th>\n",
              "      <th>Notes</th>\n",
              "    </tr>\n",
              "  </thead>\n",
              "  <tbody>\n",
              "    <tr>\n",
              "      <th>0</th>\n",
              "      <td>Luis Garavito</td>\n",
              "      <td>Colombia  Ecuador[3]  Venezuela[3]</td>\n",
              "      <td>1992–1999[3]</td>\n",
              "      <td>193</td>\n",
              "      <td>193–300+</td>\n",
              "      <td>Child-murderer, torture-killer, and rapist kno...</td>\n",
              "    </tr>\n",
              "    <tr>\n",
              "      <th>1</th>\n",
              "      <td>Pedro López</td>\n",
              "      <td>Colombia  Peru  Ecuador</td>\n",
              "      <td>1969–1980</td>\n",
              "      <td>110</td>\n",
              "      <td>300+</td>\n",
              "      <td>Child-murderer and rapist, known as \"The Monst...</td>\n",
              "    </tr>\n",
              "    <tr>\n",
              "      <th>2</th>\n",
              "      <td>Javed Iqbal</td>\n",
              "      <td>Pakistan</td>\n",
              "      <td>1998–1999</td>\n",
              "      <td>100</td>\n",
              "      <td>100</td>\n",
              "      <td>Child-murderer and rapist, known as \"Kukri\", I...</td>\n",
              "    </tr>\n",
              "    <tr>\n",
              "      <th>3</th>\n",
              "      <td>Mikhail Popkov</td>\n",
              "      <td>Russia</td>\n",
              "      <td>1992–2010</td>\n",
              "      <td>78</td>\n",
              "      <td>83+</td>\n",
              "      <td>Serial rapist-killer nicknamed \"The Werewolf\",...</td>\n",
              "    </tr>\n",
              "    <tr>\n",
              "      <th>4</th>\n",
              "      <td>Daniel Camargo Barbosa</td>\n",
              "      <td>Colombia  Ecuador  Brazil (alleged)[13]</td>\n",
              "      <td>1974–1986</td>\n",
              "      <td>72</td>\n",
              "      <td>180[13]</td>\n",
              "      <td>Child and woman murderer, believed to have pos...</td>\n",
              "    </tr>\n",
              "    <tr>\n",
              "      <th>...</th>\n",
              "      <td>...</td>\n",
              "      <td>...</td>\n",
              "      <td>...</td>\n",
              "      <td>...</td>\n",
              "      <td>...</td>\n",
              "      <td>...</td>\n",
              "    </tr>\n",
              "    <tr>\n",
              "      <th>1526</th>\n",
              "      <td>Unknown</td>\n",
              "      <td>United States</td>\n",
              "      <td>2021–2022</td>\n",
              "      <td>2</td>\n",
              "      <td>4</td>\n",
              "      <td>Shootings of four Muslim men in Albuquerque, N...</td>\n",
              "    </tr>\n",
              "    <tr>\n",
              "      <th>1527</th>\n",
              "      <td>Unknown</td>\n",
              "      <td>Canada</td>\n",
              "      <td>1970–present</td>\n",
              "      <td>80</td>\n",
              "      <td>80+</td>\n",
              "      <td>A corridor of Highway 16 where, since 1970, at...</td>\n",
              "    </tr>\n",
              "    <tr>\n",
              "      <th>1528</th>\n",
              "      <td>Unknown</td>\n",
              "      <td>Mexico</td>\n",
              "      <td>2020–present</td>\n",
              "      <td>71</td>\n",
              "      <td>86–200+</td>\n",
              "      <td>A 13-mile stretch of Federal Highway 86 where,...</td>\n",
              "    </tr>\n",
              "    <tr>\n",
              "      <th>1529</th>\n",
              "      <td>Unknown</td>\n",
              "      <td>Canada</td>\n",
              "      <td>2022</td>\n",
              "      <td>4</td>\n",
              "      <td>4</td>\n",
              "      <td>Four indigenous women were murdered in Winnipe...</td>\n",
              "    </tr>\n",
              "    <tr>\n",
              "      <th>1530</th>\n",
              "      <td>Unknown</td>\n",
              "      <td>Italy</td>\n",
              "      <td>2022</td>\n",
              "      <td>0</td>\n",
              "      <td>3</td>\n",
              "      <td>Three women were murdered at two different loc...</td>\n",
              "    </tr>\n",
              "  </tbody>\n",
              "</table>\n",
              "<p>1531 rows × 6 columns</p>\n",
              "</div>\n",
              "      <button class=\"colab-df-convert\" onclick=\"convertToInteractive('df-8e4d4579-01e2-424f-97cc-a20f813a35dd')\"\n",
              "              title=\"Convert this dataframe to an interactive table.\"\n",
              "              style=\"display:none;\">\n",
              "        \n",
              "  <svg xmlns=\"http://www.w3.org/2000/svg\" height=\"24px\"viewBox=\"0 0 24 24\"\n",
              "       width=\"24px\">\n",
              "    <path d=\"M0 0h24v24H0V0z\" fill=\"none\"/>\n",
              "    <path d=\"M18.56 5.44l.94 2.06.94-2.06 2.06-.94-2.06-.94-.94-2.06-.94 2.06-2.06.94zm-11 1L8.5 8.5l.94-2.06 2.06-.94-2.06-.94L8.5 2.5l-.94 2.06-2.06.94zm10 10l.94 2.06.94-2.06 2.06-.94-2.06-.94-.94-2.06-.94 2.06-2.06.94z\"/><path d=\"M17.41 7.96l-1.37-1.37c-.4-.4-.92-.59-1.43-.59-.52 0-1.04.2-1.43.59L10.3 9.45l-7.72 7.72c-.78.78-.78 2.05 0 2.83L4 21.41c.39.39.9.59 1.41.59.51 0 1.02-.2 1.41-.59l7.78-7.78 2.81-2.81c.8-.78.8-2.07 0-2.86zM5.41 20L4 18.59l7.72-7.72 1.47 1.35L5.41 20z\"/>\n",
              "  </svg>\n",
              "      </button>\n",
              "      \n",
              "  <style>\n",
              "    .colab-df-container {\n",
              "      display:flex;\n",
              "      flex-wrap:wrap;\n",
              "      gap: 12px;\n",
              "    }\n",
              "\n",
              "    .colab-df-convert {\n",
              "      background-color: #E8F0FE;\n",
              "      border: none;\n",
              "      border-radius: 50%;\n",
              "      cursor: pointer;\n",
              "      display: none;\n",
              "      fill: #1967D2;\n",
              "      height: 32px;\n",
              "      padding: 0 0 0 0;\n",
              "      width: 32px;\n",
              "    }\n",
              "\n",
              "    .colab-df-convert:hover {\n",
              "      background-color: #E2EBFA;\n",
              "      box-shadow: 0px 1px 2px rgba(60, 64, 67, 0.3), 0px 1px 3px 1px rgba(60, 64, 67, 0.15);\n",
              "      fill: #174EA6;\n",
              "    }\n",
              "\n",
              "    [theme=dark] .colab-df-convert {\n",
              "      background-color: #3B4455;\n",
              "      fill: #D2E3FC;\n",
              "    }\n",
              "\n",
              "    [theme=dark] .colab-df-convert:hover {\n",
              "      background-color: #434B5C;\n",
              "      box-shadow: 0px 1px 3px 1px rgba(0, 0, 0, 0.15);\n",
              "      filter: drop-shadow(0px 1px 2px rgba(0, 0, 0, 0.3));\n",
              "      fill: #FFFFFF;\n",
              "    }\n",
              "  </style>\n",
              "\n",
              "      <script>\n",
              "        const buttonEl =\n",
              "          document.querySelector('#df-8e4d4579-01e2-424f-97cc-a20f813a35dd button.colab-df-convert');\n",
              "        buttonEl.style.display =\n",
              "          google.colab.kernel.accessAllowed ? 'block' : 'none';\n",
              "\n",
              "        async function convertToInteractive(key) {\n",
              "          const element = document.querySelector('#df-8e4d4579-01e2-424f-97cc-a20f813a35dd');\n",
              "          const dataTable =\n",
              "            await google.colab.kernel.invokeFunction('convertToInteractive',\n",
              "                                                     [key], {});\n",
              "          if (!dataTable) return;\n",
              "\n",
              "          const docLinkHtml = 'Like what you see? Visit the ' +\n",
              "            '<a target=\"_blank\" href=https://colab.research.google.com/notebooks/data_table.ipynb>data table notebook</a>'\n",
              "            + ' to learn more about interactive tables.';\n",
              "          element.innerHTML = '';\n",
              "          dataTable['output_type'] = 'display_data';\n",
              "          await google.colab.output.renderOutput(dataTable, element);\n",
              "          const docLink = document.createElement('div');\n",
              "          docLink.innerHTML = docLinkHtml;\n",
              "          element.appendChild(docLink);\n",
              "        }\n",
              "      </script>\n",
              "    </div>\n",
              "  </div>\n",
              "  "
            ]
          },
          "metadata": {},
          "execution_count": 103
        }
      ]
    },
    {
      "cell_type": "code",
      "source": [
        "import seaborn as sns\n",
        "\n",
        "sns.set()"
      ],
      "metadata": {
        "id": "0EA91L75gMkL"
      },
      "execution_count": null,
      "outputs": []
    },
    {
      "cell_type": "code",
      "source": [
        "\n",
        "df8['Country'].value_counts()"
      ],
      "metadata": {
        "colab": {
          "base_uri": "https://localhost:8080/"
        },
        "id": "YeFLzQtifaDt",
        "outputId": "83d04fd1-5b9c-49fb-fdf9-ae44aeea2a33"
      },
      "execution_count": null,
      "outputs": [
        {
          "output_type": "execute_result",
          "data": {
            "text/plain": [
              "United States                                                                          1064\n",
              "United Kingdom                                                                           62\n",
              "Russia                                                                                   33\n",
              "France                                                                                   26\n",
              "South Africa                                                                             21\n",
              "                                                                                       ... \n",
              "Belarus                                                                                   1\n",
              "East Germany  Germany  France  Spain  Czech Republic (suspected)  Italy (suspected)       1\n",
              "Cyprus                                                                                    1\n",
              "Canada  United States                                                                     1\n",
              "Mali                                                                                      1\n",
              "Name: Country, Length: 141, dtype: int64"
            ]
          },
          "metadata": {},
          "execution_count": 113
        }
      ]
    },
    {
      "cell_type": "code",
      "source": [
        "df8.to_csv('serial_killers.csv', index = False)"
      ],
      "metadata": {
        "id": "JMRaZK4jg00_"
      },
      "execution_count": null,
      "outputs": []
    },
    {
      "cell_type": "code",
      "source": [],
      "metadata": {
        "id": "eUAWCCWfg6MB"
      },
      "execution_count": null,
      "outputs": []
    }
  ]
}